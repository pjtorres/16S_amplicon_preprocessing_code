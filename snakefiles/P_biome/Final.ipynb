{
 "cells": [
  {
   "cell_type": "markdown",
   "metadata": {},
   "source": [
    "# P-Biome 16S rRNA Pipeline\n",
    "### Pipeline will be documented step by step , but everything is on a Snakefile so it is fully automated. Or you can run it step by step in the cells that start with '!qiime ....'"
   ]
  },
  {
   "cell_type": "markdown",
   "metadata": {},
   "source": [
    "# Dependencies needed\n",
    "### 1.  [Python](https://www.python.org/) ≥3.3 \n",
    "### 2. [Miniconda enviroment](https://conda.io/miniconda.html) - will make everything easier later\n",
    "### 3. [QIIME2](https://docs.qiime2.org/2017.9/install/native/#install-miniconda) via conda instalation \n",
    "### 4. [Snakemake](http://snakemake.readthedocs.io/en/stable/tutorial/setup.html)"
   ]
  },
  {
   "cell_type": "markdown",
   "metadata": {},
   "source": [
    "# The Following checks that dependencies are in your path and what their versions are"
   ]
  },
  {
   "cell_type": "code",
   "execution_count": null,
   "metadata": {
    "collapsed": true
   },
   "outputs": [],
   "source": [
    "# %%bash \n",
    "qiime --version #q2cli version 2017.8.0\n",
    "python --version #Python 3.5.4 :: Continuum Analytics, Inc.\n",
    "conda --version #conda 4.3.27\n",
    "snakemake --version #3.13.3\n",
    "# if you are checking this in your environment do not add the '%%bash' command. This is only needed for this tutorial "
   ]
  },
  {
   "cell_type": "markdown",
   "metadata": {},
   "source": [
    "# Getting started with the proper environment"
   ]
  },
  {
   "cell_type": "raw",
   "metadata": {},
   "source": [
    "#### make the following directory and then go into it\n",
    "mkdir Gut_microbiome_I\n",
    "cd Gut_microbiome_I"
   ]
  },
  {
   "cell_type": "raw",
   "metadata": {},
   "source": [
    "#### once inside Gut_microbiome_I\n",
    "mkdir R1_files\n",
    "mkdir taxonomic_classifier"
   ]
  },
  {
   "cell_type": "raw",
   "metadata": {},
   "source": [
    "# taxonomic_classifier will have in it a pretrained classification artifact used in qiime2. We need to move that #pretrained classifier into this directory (for now until we make a bin for it). classifier.qza will be given to you.\n",
    "mv classifier.qza taxonomic_classifier/"
   ]
  },
  {
   "cell_type": "code",
   "execution_count": 14,
   "metadata": {
    "collapsed": false
   },
   "outputs": [
    {
     "name": "stdout",
     "output_type": "stream",
     "text": [
      "classifier.qza\n"
     ]
    }
   ],
   "source": [
    "%%bash\n",
    "ls taxonomic_classifier/\n",
    "# check to see that the classifier is in there. Name should pop up like below"
   ]
  },
  {
   "cell_type": "code",
   "execution_count": 15,
   "metadata": {
    "collapsed": false
   },
   "outputs": [
    {
     "name": "stdout",
     "output_type": "stream",
     "text": [
      "D1_S4_L001_R1_001.fastq.gz\n",
      "D2_S12_L001_R1_001.fastq.gz\n",
      "D8_S60_L001_R1_001.fastq.gz\n",
      "extra\n",
      "Mock_S280_L001_R1_001.fastq.gz\n"
     ]
    }
   ],
   "source": [
    "%%bash\n",
    "ls R1_files/\n",
    "#all your foward files should be uploaded to R1_files folder, ignore the extra right now, but notice that all files \n",
    "# have the sample same (see below) and that they all end in .gz . If your  files end in .fastq use the following to convert\n",
    "# gzip R1_files/*.fastq\n",
    "# then everything should end in gz"
   ]
  },
  {
   "cell_type": "raw",
   "metadata": {},
   "source": [
    "# notice all the above files are under conventional file name. Your files must look like this for the following tutorial to work.\n",
    "\n",
    "▶\tSampleName—The sample name provided in the sample sheet. If a sample name is not provided, the file name includes the sample ID, which is a required field in the sample sheet and must be unique.\n",
    "▶\tS1—The sample number based on the order that samples are listed in the sample sheet starting with 1. In this example, S1 indicates that this sample is the first sample listed in the sample sheet.\n",
    "NOTE\n",
    "Reads that cannot be assigned to any sample are written to a FASTQ file for sample number 0, and excluded from downstream analysis.\n",
    "▶\tL001—The lane number.\n",
    "▶\tR1—The read. In this example, R1 means Read 1. For a paired-end run, there is at least one file with R2 in the file name for Read 2. When generated, index reads are I1 or I2.\n",
    "▶\t001—The last segment is always 001."
   ]
  },
  {
   "cell_type": "markdown",
   "metadata": {},
   "source": [
    "### Make sure your mapping file is properly filled. Example of mapping file can be found in [qiime2](https://docs.qiime2.org/2.0.6/tutorials/moving-pictures/) tutorial or you can get help [here](http://keemei.qiime.org/)\n",
    "### Ask if you are not sure, this becomes very important throughout our analysis so we want to make sure this looks right. All files must be represented in mapping file. Then upload your mapping file to the Gut_microbiome_I directory. After this most everything should be ready to go."
   ]
  },
  {
   "cell_type": "code",
   "execution_count": 1,
   "metadata": {
    "collapsed": false
   },
   "outputs": [
    {
     "name": "stdout",
     "output_type": "stream",
     "text": [
      "Final.ipynb\n",
      "Mapping_file.txt\n",
      "R1_files\n",
      "Snakefile\n",
      "dag.svg\n",
      "taxonomic_classifier\n"
     ]
    }
   ],
   "source": [
    "%%bash\n",
    "ls\n",
    "# this is what your folder should look like now, names must look exacly like this"
   ]
  },
  {
   "cell_type": "markdown",
   "metadata": {},
   "source": [
    "# Let's start"
   ]
  },
  {
   "cell_type": "code",
   "execution_count": null,
   "metadata": {
    "collapsed": true
   },
   "outputs": [],
   "source": [
    "# make sure you are in your macqiime environent\n",
    "source activate qiime2-2017.8\n",
    "# also if you are using a cluster or cloud computer use screen incase you get disconnected everything still keeps working\n",
    "screen\n",
    "# the following is a step-by-step of what is going on with the snakefile"
   ]
  },
  {
   "cell_type": "markdown",
   "metadata": {},
   "source": [
    "# Make_artifacts - Imports fastq reads that are ALREADY demultiplexed into a qiime artifact\n",
    "## start by using this code, this will allow you to cizualize your sequences before denoising later\n",
    "### ```snakemake --until demux.qzv```"
   ]
  },
  {
   "cell_type": "code",
   "execution_count": null,
   "metadata": {
    "collapsed": true
   },
   "outputs": [],
   "source": [
    "rule make_artifacts:\n",
    "    input:\n",
    "        \"R1_files\"\n",
    "    output:\n",
    "        \"demux-single-end.qza\"\n",
    "    message:\n",
    "        \"Welcome to the Persephone Biome 16S rRNA Pipeline. Make sure all your dependencies are meet and that you have all the proper files in their proper folder. If unsure look at the jupyter notebook tutorial.\"\n",
    "    shell:\n",
    "        \"qiime tools import \\\n",
    "  --type 'SampleData[SequencesWithQuality]' \\\n",
    "  --input-path {input} \\\n",
    "  --source-format CasavaOneEightSingleLanePerSampleDirFmt \\\n",
    "  --output-path {output}\""
   ]
  },
  {
   "cell_type": "code",
   "execution_count": null,
   "metadata": {
    "collapsed": true
   },
   "outputs": [],
   "source": [
    "!qiime tools import \\\n",
    "  --type 'SampleData[SequencesWithQuality]' \\\n",
    "  --input-path R1_files \\\n",
    "  --source-format CasavaOneEightSingleLanePerSampleDirFmt \\\n",
    "  --output-path demux-single-end.qza"
   ]
  },
  {
   "cell_type": "markdown",
   "metadata": {},
   "source": [
    "## Summarize demultiplexed files - a summary of sequencing depth in each of your files"
   ]
  },
  {
   "cell_type": "code",
   "execution_count": null,
   "metadata": {
    "collapsed": true
   },
   "outputs": [],
   "source": [
    "rule summarize_demux:\n",
    "    input:\n",
    "        \"demux-single-end.qza\"\n",
    "    output:\n",
    "        \"demux.qzv\"\n",
    "    shell:\n",
    "        \"qiime demux summarize \\\n",
    "  --i-data {input} \\\n",
    "  --o-visualization {output}\" "
   ]
  },
  {
   "cell_type": "code",
   "execution_count": null,
   "metadata": {
    "collapsed": true
   },
   "outputs": [],
   "source": [
    "!qiime demux summarize \\\n",
    "  --i-data demux-single-end.qza \\\n",
    "  --o-visualization demux.qzv"
   ]
  },
  {
   "cell_type": "markdown",
   "metadata": {},
   "source": [
    "# This is around the point where you should stop and check the quality of your files. You are going to need to know this for the following step. We need to know how good or bad our sequences are and where it is that we need to trim. \n",
    "`"
   ]
  },
  {
   "cell_type": "code",
   "execution_count": 18,
   "metadata": {
    "collapsed": false
   },
   "outputs": [
    {
     "name": "stdout",
     "output_type": "stream",
     "text": [
      "Usage: qiime tools view [OPTIONS] VISUALIZATION_PATH\r\n",
      "\r\n",
      "Error: Visualization viewing is currently not supported in headless environments. You can view Visualizations (and Artifacts) at https://view.qiime2.org, or move the Visualization to an environment with a display and view it with `qiime tools view`.\r\n"
     ]
    }
   ],
   "source": [
    "# view your output\n",
    "!qiime tools view demux.qzv\n",
    "# see below, doesn't look great so we will try our best in the filtering department"
   ]
  },
  {
   "cell_type": "markdown",
   "metadata": {},
   "source": [
    "![title](demuxpic.png)\n"
   ]
  },
  {
   "cell_type": "code",
   "execution_count": null,
   "metadata": {
    "collapsed": true
   },
   "outputs": [],
   "source": [
    "# YOU PROBABLY ONLY WANT TO GET UP TO THIS POINT AT FIRST. THIS WAY YOU CAN EVALUATE YOUR DATA AND CHOOSE THE BEST WAY\n",
    "# TO TRIM YOUR DATA IN BOTH THE 5' AND 3' END IF NEEDED. YOU ARE TRYING TO LOSE ENDS THAT HAVE THE LOWEST QUALITY OF SEQUENCES\n",
    "#COMPARED TO THE REST OF YOUR DATA. USE THIS CODE TO RUN UP TO HERE!!\n"
   ]
  },
  {
   "cell_type": "markdown",
   "metadata": {},
   "source": [
    "# DADA2 denoise - Assumed you have looked at the demux.qzv file and determined what the best parameters are now you will run this code.The following denoising step is subject to change. Make sure you look at the above graph and change the parameters as needed. \n",
    "\n",
    "### if you need to modify the code below (as this is currently the default) open the Snakefile and modify it."
   ]
  },
  {
   "cell_type": "code",
   "execution_count": null,
   "metadata": {
    "collapsed": true
   },
   "outputs": [],
   "source": [
    "#Run this code now to start your analysis up until you make the phyogenetic tree. Now keep in mind you only need to do this \n",
    "#if you haven;t aready determined the optimal parameters for your data.\n",
    "snakemake --until rooted-tree.qza\n",
    "# if you will use the default value for the core diveristy metrics (look below) than use this instead to just finish\n",
    "\n"
   ]
  },
  {
   "cell_type": "code",
   "execution_count": null,
   "metadata": {
    "collapsed": true
   },
   "outputs": [],
   "source": [
    "rule denoise_single:\n",
    "    input:\n",
    "        \"demux-single-end.qza\"\n",
    "    output:\n",
    "        \"rep-seqs-dada2.qza\"\n",
    "    message:\n",
    "        \"This is a very long step. Your sequences are being analyzed for sequencing errors, duplicates and chimeras. Will remove spurious OTUs and reduce inflation commonly associated with OTU clustering. Will also reduce dataset size so don't be alarmed if you notice this. It is necessary. Make sure you are in a 'screen' like environment or do not close your computer. Depending on the data size and computer strength this could take little to a long time. Don't be worried if it takes a while.\"\n",
    "    shell:\n",
    "        \"qiime dada2 denoise-single \\\n",
    "    --i-demultiplexed-seqs {input} \\\n",
    "    --p-trim-left 20 --p-trunc-len 220 --p-n-threads 0 \\\n",
    "    --o-representative-sequences {output}\\\n",
    "    --o-table table-dada2.qza\""
   ]
  },
  {
   "cell_type": "code",
   "execution_count": null,
   "metadata": {
    "collapsed": true
   },
   "outputs": [],
   "source": [
    "!qiime dada2 denoise-single \\\n",
    "    --i-demultiplexed-seqs demux-single-end.qza \\\n",
    "    --p-trim-left 12 --p-trunc-len 220 \\\n",
    "    --o-representative-sequences rep-seqs-dada2.qza \\\n",
    "    --o-table table-dada2.qza"
   ]
  },
  {
   "cell_type": "markdown",
   "metadata": {},
   "source": [
    "# Summarize -  feature table and rep seqs"
   ]
  },
  {
   "cell_type": "code",
   "execution_count": null,
   "metadata": {
    "collapsed": true
   },
   "outputs": [],
   "source": [
    "rule table_summary:\n",
    "    input:\n",
    "        \"table-dada2.qza\"\n",
    "    output:\n",
    "        \"table-dada2.qzv\"\n",
    "\n",
    "    shell:\n",
    "        \"qiime feature-table summarize \\\n",
    "  --i-table  {input} \\\n",
    "  --o-visualization  {output} \\\n",
    "  --m-sample-metadata-file Mapping_file.txt\""
   ]
  },
  {
   "cell_type": "code",
   "execution_count": null,
   "metadata": {
    "collapsed": true
   },
   "outputs": [],
   "source": [
    "!qiime feature-table summarize \\\n",
    "  --i-table  table-dada2.qza \\\n",
    "  --o-visualization  table-dada2.qzv \\\n",
    "  --m-sample-metadata-file Mapping_file.txt"
   ]
  },
  {
   "cell_type": "code",
   "execution_count": null,
   "metadata": {
    "collapsed": true
   },
   "outputs": [],
   "source": [
    "rule rep_summary:\n",
    "    input:\n",
    "        \"rep-seqs-dada2.qza\"\n",
    "    output:\n",
    "        \"rep-seqs-dada2.qzv\"\n",
    "    shell:\n",
    "        \"qiime feature-table tabulate-seqs \\\n",
    "  --i-data  {input} \\\n",
    "  --o-visualization  {output}\""
   ]
  },
  {
   "cell_type": "code",
   "execution_count": null,
   "metadata": {
    "collapsed": true
   },
   "outputs": [],
   "source": [
    "!qiime feature-table tabulate-seqs \\\n",
    "  --i-data  rep-seqs-dada2.qza \\\n",
    "  --o-visualization  rep-seqs-dada2.qzv"
   ]
  },
  {
   "cell_type": "markdown",
   "metadata": {},
   "source": [
    "# Generate a tree for phylogenetic analysis - multistep process to build a phylogenetic tree for downstream analysis"
   ]
  },
  {
   "cell_type": "code",
   "execution_count": null,
   "metadata": {
    "collapsed": true
   },
   "outputs": [],
   "source": [
    "rule phylogenetic_tree:\n",
    "    input:\n",
    "        \"rep-seqs-dada2.qza\"\n",
    "    output:\n",
    "        \"aligned-rep-seqs.qza\"\n",
    "    shell:\n",
    "        \"qiime alignment mafft \\\n",
    "  --i-sequences {input} \\\n",
    "  --o-alignment {output}\""
   ]
  },
  {
   "cell_type": "code",
   "execution_count": null,
   "metadata": {
    "collapsed": true
   },
   "outputs": [],
   "source": [
    "rule alignment:\n",
    "    input:\n",
    "        \"aligned-rep-seqs.qza\"\n",
    "    output:\n",
    "        \"masked-aligned-rep-seqs.qza\"\n",
    "    shell:\n",
    "    \"qiime alignment mask \\\n",
    "  --i-alignment {input} \\\n",
    "  --o-masked-alignment {output}\""
   ]
  },
  {
   "cell_type": "code",
   "execution_count": null,
   "metadata": {
    "collapsed": true
   },
   "outputs": [],
   "source": [
    "rule phylogeny_fasttree:\n",
    "    input:\n",
    "        \"masked-aligned-rep-seqs.qza\"\n",
    "    output:\n",
    "        \"unrooted-tree.qza\"\n",
    "    shell:\n",
    "        \"qiime phylogeny fasttree \\\n",
    "  --i-alignment {input} \\\n",
    "  --o-tree {output}\""
   ]
  },
  {
   "cell_type": "code",
   "execution_count": null,
   "metadata": {
    "collapsed": true
   },
   "outputs": [],
   "source": [
    "rule midpoint:\n",
    "    input:\n",
    "        \"unrooted-tree.qza\"\n",
    "    output:\n",
    "        \"rooted-tree.qza\"\n",
    "    shell:\n",
    "        \"qiime phylogeny midpoint-root \\\n",
    "  --i-tree {input} \\\n",
    "  --o-rooted-tree {output}\""
   ]
  },
  {
   "cell_type": "code",
   "execution_count": null,
   "metadata": {
    "collapsed": true
   },
   "outputs": [],
   "source": [
    "!qiime alignment mafft \\\n",
    "  --i-sequences rep-seqs-dada2.qza\\\n",
    "  --o-alignment aligned-rep-seqs.qza\n",
    "\n",
    "!qiime alignment mask \\\n",
    "  --i-alignment aligned-rep-seqs.qza \\\n",
    "  --o-masked-alignment masked-aligned-rep-seqs.qza\n",
    "\n",
    "!qiime phylogeny fasttree \\\n",
    "  --i-alignment masked-aligned-rep-seqs.qza \\\n",
    "  --o-tree unrooted-tree.qza\n",
    "\n",
    "!qiime phylogeny midpoint-root \\\n",
    "  --i-tree unrooted-tree.qza \\\n",
    "  --o-rooted-tree rooted-tree.qza"
   ]
  },
  {
   "cell_type": "markdown",
   "metadata": {},
   "source": [
    "# Core diversity metrics - will do alpha and beta diversity metrics of all sorts.\n",
    "### Before you start you should take a good look at your table.qzv if you decide you want to change the following parameters. Data must be rarefied prior to doing alpha and beta so no matter what you have to temporarily put some data aside. Look at the sequence count in your table.qzv file and look at the sample with the lowest depth and you should rarefy around there. Default value right now is a depth of 2500 sequences."
   ]
  },
  {
   "cell_type": "code",
   "execution_count": null,
   "metadata": {
    "collapsed": true
   },
   "outputs": [],
   "source": [
    "rule alpha_beta_metrics:\n",
    "    input:\n",
    "        tree=\"rooted-tree.qza\",\n",
    "        table=\"table-dada2-mock.qza\"\n",
    "    output:\n",
    "        \"core-metrics-results-mock\"\n",
    "    shell: \n",
    "        \"qiime diversity core-metrics \\\n",
    "  --i-phylogeny {input.tree} \\\n",
    "  --i-table {input.table} \\\n",
    "  --p-sampling-depth 2500 \\\n",
    "  --output-dir example_paired_end_demultiplex/se-hirocon/core-metrics-results\""
   ]
  },
  {
   "cell_type": "code",
   "execution_count": null,
   "metadata": {
    "collapsed": true
   },
   "outputs": [],
   "source": [
    "!qiime diversity core-metrics \\\n",
    "  --i-phylogeny rooted-tree.qza \\\n",
    "  --i-table table-dada2-mock.qza \\\n",
    "  --p-sampling-depth 2500 \\\n",
    "  --output-dir example_paired_end_demultiplex/se-hirocon/core-metrics-results"
   ]
  },
  {
   "cell_type": "markdown",
   "metadata": {},
   "source": [
    "# Alpha beta visualization"
   ]
  },
  {
   "cell_type": "code",
   "execution_count": null,
   "metadata": {
    "collapsed": true
   },
   "outputs": [],
   "source": [
    "rule alpha_visualization:\n",
    "    #input:\n",
    "    #    \"core-metrics-phylogenetic/{sample}_vector.qza\"\n",
    "    output:\n",
    "        \"visualization/alpha\"\n",
    "    shell:\n",
    "        \"\"\"\n",
    "        echo \"Running Alpha Visualization\"\n",
    "        mkdir {output}\n",
    "\n",
    "        qiime diversity alpha-group-significance --i-alpha-diversity core-metrics-results/evenness_vector.qza --m-metadata-file sample-metadata.tsv --o-visualization visualization/alpha/evenness_vector.qzv\n",
    "        qiime diversity alpha-group-significance --i-alpha-diversity core-metrics-results/faith_pd_vector.qza --m-metadata-file sample-metadata.tsv --o-visualization visualization/alpha/faith_pd_vector.qzv\n",
    "        qiime diversity alpha-group-significance --i-alpha-diversity core-metrics-results/observed_otus_vector.qza --m-metadata-file sample-metadata.tsv --o-visualization visualization/alpha/observed_otus_vector.qzv\n",
    "        qiime diversity alpha-group-significance --i-alpha-diversity core-metrics-results/shannon_vector.qza --m-metadata-file sample-metadata.tsv --o-visualization visualization/alpha/shannon_vector.qzv\n",
    "\n",
    "        \"\"\""
   ]
  },
  {
   "cell_type": "code",
   "execution_count": null,
   "metadata": {
    "collapsed": true
   },
   "outputs": [],
   "source": [
    "%%bash\n",
    "mkdir visualization/alpha"
   ]
  },
  {
   "cell_type": "code",
   "execution_count": null,
   "metadata": {
    "collapsed": true
   },
   "outputs": [],
   "source": [
    "!qiime diversity alpha-group-significance --i-alpha-diversity core-metrics-results/evenness_vector.qza --m-metadata-file sample-metadata.tsv --o-visualization visualization/alpha/evenness_vector.qzv\n",
    "!qiime diversity alpha-group-significance --i-alpha-diversity core-metrics-results/faith_pd_vector.qza --m-metadata-file sample-metadata.tsv --o-visualization visualization/alpha/faith_pd_vector.qzv\n",
    "!qiime diversity alpha-group-significance --i-alpha-diversity core-metrics-results/observed_otus_vector.qza --m-metadata-file sample-metadata.tsv --o-visualization visualization/alpha/observed_otus_vector.qzv\n",
    "!qiime diversity alpha-group-significance --i-alpha-diversity core-metrics-results/shannon_vector.qza --m-metadata-file sample-metadata.tsv --o-visualization visualization/alpha/shannon_vector.qzv\n"
   ]
  },
  {
   "cell_type": "code",
   "execution_count": null,
   "metadata": {
    "collapsed": true
   },
   "outputs": [],
   "source": [
    "rule beta_visualization:\n",
    "    output:\n",
    "        \"visualization/beta\"\n",
    "    shell:\n",
    "        \"\"\"\n",
    "        echo \"Running Beta Group Significance\"\n",
    "        mkdir {output}\n",
    "        qiime emperor plot --i-pcoa core-metrics-results/unweighted_unifrac_pcoa_results.qza --m-metadata-file sample-metadata.tsv --o-visualization visualization/beta/unweighted-unifrac-emperor.qzv\n",
    "        qiime emperor plot --i-pcoa core-metrics-results/weighted_unifrac_pcoa_results.qza --m-metadata-file sample-metadata.tsv --o-visualization visualization/beta/weighted-unifrac-emperor.qzv\n",
    "        qiime emperor plot --i-pcoa core-metrics-results/bray_curtis_pcoa_results.qza --m-metadata-file sample-metadata.tsv --o-visualization visualization/beta/bray_curtis-emperor.qzv\n",
    "        qiime emperor plot --i-pcoa core-metrics-results/jaccard_pcoa_results.qza --m-metadata-file sample-metadata.tsv --o-visualization visualization/beta/jaccard-emperor.qzv\n",
    "        \"\"\""
   ]
  },
  {
   "cell_type": "code",
   "execution_count": null,
   "metadata": {
    "collapsed": true
   },
   "outputs": [],
   "source": [
    "%%bash\n",
    "mkdir visualization/beta"
   ]
  },
  {
   "cell_type": "code",
   "execution_count": null,
   "metadata": {
    "collapsed": true
   },
   "outputs": [],
   "source": [
    "!qiime emperor plot --i-pcoa core-metrics-results/unweighted_unifrac_pcoa_results.qza --m-metadata-file sample-metadata.tsv --o-visualization visualization/beta/unweighted-unifrac-emperor.qzv\n",
    "!qiime emperor plot --i-pcoa core-metrics-results/weighted_unifrac_pcoa_results.qza --m-metadata-file sample-metadata.tsv --o-visualization visualization/beta/weighted-unifrac-emperor.qzv\n",
    "!qiime emperor plot --i-pcoa core-metrics-results/bray_curtis_pcoa_results.qza --m-metadata-file sample-metadata.tsv --o-visualization visualization/beta/bray_curtis-emperor.qzv\n",
    "!qiime emperor plot --i-pcoa core-metrics-results/jaccard_pcoa_results.qza --m-metadata-file sample-metadata.tsv --o-visualization visualization/beta/jaccard-emperor.qzv"
   ]
  },
  {
   "cell_type": "markdown",
   "metadata": {},
   "source": [
    "# Taxonomic Analysis - taxonomic classification using classifier.qza and then make a taxa bar plot. Data is not rarefied here."
   ]
  },
  {
   "cell_type": "code",
   "execution_count": null,
   "metadata": {
    "collapsed": true
   },
   "outputs": [],
   "source": [
    "rule feature_classifier:\n",
    "    input:\n",
    "        classifier= \"taxonomic_classifier/classifier.qza\",\n",
    "        repseq=\"rep-seqs-dada2.qza\"\n",
    "    output:\n",
    "        \"taxonomy.qza\"\n",
    "    shell:\n",
    "        \"\"\"\n",
    "        echo \"Running feature classifier\"\n",
    "        qiime feature-classifier classify-sklearn --i-classifier {input.classifier} --i-reads {input.repseq} --o-classification {output}\n",
    "        \"\"\""
   ]
  },
  {
   "cell_type": "code",
   "execution_count": null,
   "metadata": {
    "collapsed": true
   },
   "outputs": [],
   "source": [
    "!qiime feature-classifier classify-sklearn \\\n",
    "    --i-classifier taxonomic_classifier/classifier.qza \\\n",
    "    --i-reads rep-seqs-dada2.qza \\\n",
    "    --o-classification taxonomy.qza"
   ]
  },
  {
   "cell_type": "code",
   "execution_count": null,
   "metadata": {
    "collapsed": true
   },
   "outputs": [],
   "source": [
    "rule taxa_barplot:\n",
    "    input:\n",
    "        \"taxonomy.qza\"\n",
    "    output:\n",
    "        \"visualization/taxa\"\n",
    "    shell:\n",
    "        \"\"\"\n",
    "        mkdir {output}\n",
    "        qiime taxa barplot --i-table table-dada2.qza \\\n",
    "        --i-taxonomy taxonomy.qza --m-metadata-file Mapping_file.txt  \\\n",
    "        --o-visualization visualization/taxa/taxa-barplot.qzv\n",
    "\n",
    "        \"\"\""
   ]
  },
  {
   "cell_type": "code",
   "execution_count": null,
   "metadata": {
    "collapsed": true
   },
   "outputs": [],
   "source": [
    "%%bash\n",
    "mkdir visualization/taxa"
   ]
  },
  {
   "cell_type": "code",
   "execution_count": null,
   "metadata": {
    "collapsed": true
   },
   "outputs": [],
   "source": [
    "!qiime taxa barplot --i-table table-dada2.qza \\\n",
    "    --i-taxonomy taxonomy.qza --m-metadata-file Mapping_file.txt  \\\n",
    "    --o-visualization visualization/taxa/taxa-barplot.qzv"
   ]
  }
 ],
 "metadata": {
  "kernelspec": {
   "display_name": "Python 2",
   "language": "python",
   "name": "python2"
  },
  "language_info": {
   "codemirror_mode": {
    "name": "ipython",
    "version": 2
   },
   "file_extension": ".py",
   "mimetype": "text/x-python",
   "name": "python",
   "nbconvert_exporter": "python",
   "pygments_lexer": "ipython2",
   "version": "2.7.13"
  }
 },
 "nbformat": 4,
 "nbformat_minor": 2
}
